{
 "cells": [
  {
   "cell_type": "code",
   "execution_count": 35,
   "id": "b9b63c89-4f82-43f7-bbcf-b5e6ee07250b",
   "metadata": {},
   "outputs": [],
   "source": [
    "import logging\n",
    "from typing import Dict"
   ]
  },
  {
   "cell_type": "code",
   "execution_count": 36,
   "id": "a2e88d09-abd4-45c3-ae97-1d2481c77bd5",
   "metadata": {},
   "outputs": [],
   "source": [
    "logging.basicConfig(format='[%(asctime)s] p%(process)s {%(filename)s:%(lineno)d} %(levelname)s - %(message)s', level=logging.INFO)\n",
    "logger = logging.getLogger(__name__)"
   ]
  },
  {
   "cell_type": "code",
   "execution_count": 37,
   "id": "ad2fe8a2-616b-4cb0-8dd9-0a671bf99183",
   "metadata": {},
   "outputs": [
    {
     "data": {
      "text/plain": [
       "[1, 2, 3, 3, 4, 5]"
      ]
     },
     "execution_count": 37,
     "metadata": {},
     "output_type": "execute_result"
    }
   ],
   "source": [
    "[1, 2, 3] + [3, 4, 5]"
   ]
  },
  {
   "cell_type": "code",
   "execution_count": 38,
   "id": "84152a67-d12f-450d-8971-1cb5ab1610b7",
   "metadata": {},
   "outputs": [
    {
     "data": {
      "text/plain": [
       "(1, 2, 3, 4, 1, 2, 3)"
      ]
     },
     "execution_count": 38,
     "metadata": {},
     "output_type": "execute_result"
    }
   ],
   "source": [
    "(1, 2, 3, 4) + (1, 2, 3)"
   ]
  },
  {
   "cell_type": "code",
   "execution_count": 39,
   "id": "039c5771-464b-4d86-b451-ef8fbbdb3676",
   "metadata": {},
   "outputs": [],
   "source": [
    "# Examples to keep in mind\n",
    "value = [1, 2, 3]\n",
    "value += [4, 5, 6]"
   ]
  },
  {
   "cell_type": "code",
   "execution_count": 40,
   "id": "584eb73d-bb88-4431-a472-814f6fa909fb",
   "metadata": {},
   "outputs": [
    {
     "data": {
      "text/plain": [
       "[1, 2, 3, 4, 5, 6]"
      ]
     },
     "execution_count": 40,
     "metadata": {},
     "output_type": "execute_result"
    }
   ],
   "source": [
    "value"
   ]
  },
  {
   "cell_type": "code",
   "execution_count": 41,
   "id": "693b6df8-f51f-4d71-be8b-0c9525945303",
   "metadata": {},
   "outputs": [
    {
     "data": {
      "text/plain": [
       "{1, 4}"
      ]
     },
     "execution_count": 41,
     "metadata": {},
     "output_type": "execute_result"
    }
   ],
   "source": [
    "# create a unique set using the and operator\n",
    "{1, 2, 3, 4} & {1, 4}"
   ]
  },
  {
   "cell_type": "code",
   "execution_count": 42,
   "id": "69717465-895b-4775-868f-2df34a53a949",
   "metadata": {},
   "outputs": [
    {
     "data": {
      "text/plain": [
       "{1, 2, 3, 5}"
      ]
     },
     "execution_count": 42,
     "metadata": {},
     "output_type": "execute_result"
    }
   ],
   "source": [
    "# use | to create a set with all elements altogether\n",
    "{1, 2, 3, } | {1, 5}"
   ]
  },
  {
   "cell_type": "code",
   "execution_count": 43,
   "id": "e3b616d4-4799-4a99-83e5-a097555fdaee",
   "metadata": {},
   "outputs": [
    {
     "data": {
      "text/plain": [
       "{3}"
      ]
     },
     "execution_count": 43,
     "metadata": {},
     "output_type": "execute_result"
    }
   ],
   "source": [
    "# subtract operation\n",
    "{1, 2, 3} - {1, 2}"
   ]
  },
  {
   "cell_type": "code",
   "execution_count": 44,
   "id": "0dfc044d-6476-40e6-89de-a6fd9dda689e",
   "metadata": {},
   "outputs": [
    {
     "data": {
      "text/plain": [
       "{2, 3}"
      ]
     },
     "execution_count": 44,
     "metadata": {},
     "output_type": "execute_result"
    }
   ],
   "source": [
    "# Symmetric difference\n",
    "{1, 2, 3, 4} ^ {1, 4}"
   ]
  },
  {
   "cell_type": "code",
   "execution_count": 45,
   "id": "624523f6-f5c3-4f7c-8382-91cbaa29629c",
   "metadata": {},
   "outputs": [
    {
     "data": {
      "text/plain": [
       "{'a': 3, 'b': 5, 'c': 4}"
      ]
     },
     "execution_count": 45,
     "metadata": {},
     "output_type": "execute_result"
    }
   ],
   "source": [
    "# merge the dictionaries, if there are overlapping ones, it will inherit the key values from the rightmost side\n",
    "{'a': 1, 'b': 2} | {'a': 3, 'b': 5, 'c': 4}"
   ]
  },
  {
   "cell_type": "code",
   "execution_count": 46,
   "id": "f5a395fd-91b0-44f6-a02f-62f74f5f4308",
   "metadata": {},
   "outputs": [
    {
     "data": {
      "text/plain": [
       "{'a': 3, 'b': 4}"
      ]
     },
     "execution_count": 46,
     "metadata": {},
     "output_type": "execute_result"
    }
   ],
   "source": [
    "# if you prefer to update the dictionary with keys coming from different dictionaries, then do a |=\n",
    "previous_dict: Dict = {'a': 1}\n",
    "previous_dict |= {'a': 3, 'b': 4}\n",
    "previous_dict"
   ]
  },
  {
   "cell_type": "code",
   "execution_count": 47,
   "id": "3ecddf8a-d0da-4eb6-9e2f-767cb02d2e0b",
   "metadata": {},
   "outputs": [
    {
     "data": {
      "text/plain": [
       "{'a': 3, 'b': 4}"
      ]
     },
     "execution_count": 47,
     "metadata": {},
     "output_type": "execute_result"
    }
   ],
   "source": [
    "# in other scenarios, you can just do the update method\n",
    "my_current_dict: Dict = {'a': 1}\n",
    "my_current_dict.update({'a': 3, 'b': 4})\n",
    "my_current_dict"
   ]
  },
  {
   "cell_type": "markdown",
   "id": "a4bdcf34-0439-4ba3-956c-918a5023b9b9",
   "metadata": {},
   "source": [
    "#### Dictionary Unpacking"
   ]
  },
  {
   "cell_type": "code",
   "execution_count": 48,
   "id": "662e0b5a-8ddd-4bd4-89d4-0d48184df470",
   "metadata": {},
   "outputs": [
    {
     "data": {
      "text/plain": [
       "{'a': 4, 'b': 2, 'c': 21}"
      ]
     },
     "execution_count": 48,
     "metadata": {},
     "output_type": "execute_result"
    }
   ],
   "source": [
    "a: Dict = {'a': 2.12, 'b': 2.52}\n",
    "b: Dict = {'a': 4, 'b': 2, 'c': 21}\n",
    "{**a, **b}"
   ]
  },
  {
   "cell_type": "markdown",
   "id": "f94e1882-3d77-43dc-93de-83fd4c64d788",
   "metadata": {},
   "source": [
    "#### ChainMap from the collections module"
   ]
  },
  {
   "cell_type": "code",
   "execution_count": 49,
   "id": "09c110e1-3fb3-423f-ad9b-e6fc543f5e36",
   "metadata": {},
   "outputs": [],
   "source": [
    "# new_map = ChainMap(dict2, dict1)\n",
    "\n",
    "from collections import ChainMap\n",
    "user_account = {\"iban\": \"123knvefoln\", \"type\": \"account\"}\n",
    "user_profile = {\"display_name\": \"John Doe\", \"type\": \"profile\"}"
   ]
  },
  {
   "cell_type": "code",
   "execution_count": 50,
   "id": "fa414189-cd6b-4ead-b814-1662139083f6",
   "metadata": {},
   "outputs": [
    {
     "data": {
      "text/plain": [
       "'123knvefoln'"
      ]
     },
     "execution_count": 50,
     "metadata": {},
     "output_type": "execute_result"
    }
   ],
   "source": [
    "user_info: Dict = ChainMap(user_account, user_profile)\n",
    "user_info[\"iban\"]"
   ]
  },
  {
   "cell_type": "code",
   "execution_count": 51,
   "id": "f2eba8c2-c350-4d2e-9f24-9cc8d00c86ac",
   "metadata": {},
   "outputs": [
    {
     "data": {
      "text/plain": [
       "'John Doe'"
      ]
     },
     "execution_count": 51,
     "metadata": {},
     "output_type": "execute_result"
    }
   ],
   "source": [
    "user_info[\"display_name\"]"
   ]
  },
  {
   "cell_type": "code",
   "execution_count": 52,
   "id": "3c5d8130-ba2e-40e8-a37f-20e3e70c0156",
   "metadata": {},
   "outputs": [
    {
     "data": {
      "text/plain": [
       "'John Doe'"
      ]
     },
     "execution_count": 52,
     "metadata": {},
     "output_type": "execute_result"
    }
   ],
   "source": [
    "# if the underlying objects change, then ChainMap will be able to return the modified data\n",
    "user_info[\"display_name\"]"
   ]
  },
  {
   "cell_type": "code",
   "execution_count": 54,
   "id": "beeae233-2cbd-4f2b-862c-ed97f17d3f0b",
   "metadata": {},
   "outputs": [
    {
     "data": {
      "text/plain": [
       "'Madhur Prashant'"
      ]
     },
     "execution_count": 54,
     "metadata": {},
     "output_type": "execute_result"
    }
   ],
   "source": [
    "user_info[\"display_name\"] = \"Madhur Prashant\"\n",
    "user_info[\"display_name\"]"
   ]
  },
  {
   "cell_type": "code",
   "execution_count": 55,
   "id": "1e97848a-3f46-4c2b-9e6e-c92c170653b0",
   "metadata": {},
   "outputs": [
    {
     "data": {
      "text/plain": [
       "{'display_name': 'Madhur Prashant', 'type': 'account', 'iban': '123knvefoln'}"
      ]
     },
     "execution_count": 55,
     "metadata": {},
     "output_type": "execute_result"
    }
   ],
   "source": [
    "# to get rid of any backpropogating errors, convert the chainmap object into a new dictionary\n",
    "\n",
    "# use chainmap if you want to provide unified access to multiple objects that act as if they were dictionaries\n",
    "dict(ChainMap(user_account, user_profile))"
   ]
  },
  {
   "cell_type": "markdown",
   "id": "732d253c-6dfe-4456-acd6-0c8facd2272c",
   "metadata": {},
   "source": [
    "#### Assignment expressions"
   ]
  },
  {
   "cell_type": "code",
   "execution_count": 56,
   "id": "502d812e-ebdc-4abe-a736-faadd86fc815",
   "metadata": {},
   "outputs": [
    {
     "data": {
      "text/plain": [
       "<function __main__.<lambda>(x)>"
      ]
     },
     "execution_count": 56,
     "metadata": {},
     "output_type": "execute_result"
    }
   ],
   "source": [
    "# lambda expressions for anonymous functions as a counterpart for function definitions\n",
    "lambda x: x**2"
   ]
  },
  {
   "cell_type": "code",
   "execution_count": 57,
   "id": "d2ddca2e-dd47-4b16-ac69-642187eabddc",
   "metadata": {},
   "outputs": [
    {
     "data": {
      "text/plain": [
       "__main__.MyClass"
      ]
     },
     "execution_count": 57,
     "metadata": {},
     "output_type": "execute_result"
    }
   ],
   "source": [
    "# type object instantiation as a counterpart for class definition\n",
    "type(\"MyClass\", (), {})"
   ]
  },
  {
   "cell_type": "code",
   "execution_count": 59,
   "id": "3877feb5-c695-433a-b1a0-4c3b9ca4a915",
   "metadata": {},
   "outputs": [
    {
     "data": {
      "text/plain": [
       "[0, 1, 4, 9, 16, 25, 36, 49, 64, 81]"
      ]
     },
     "execution_count": 59,
     "metadata": {},
     "output_type": "execute_result"
    }
   ],
   "source": [
    "# various comprehensions as counterparts for loops \n",
    "squares_of_two = [x**2 for x in range(10)]\n",
    "squares_of_two"
   ]
  },
  {
   "cell_type": "code",
   "execution_count": 62,
   "id": "1d7a7df0-8c08-43bf-8019-92933968f59d",
   "metadata": {},
   "outputs": [
    {
     "data": {
      "text/plain": [
       "'odd'"
      ]
     },
     "execution_count": 62,
     "metadata": {},
     "output_type": "execute_result"
    }
   ],
   "source": [
    "# compound expressions as a counterpart of if ... else statements\n",
    "# number = 4\n",
    "number = 1\n",
    "\"odd\" if number % 2 else \"even\""
   ]
  },
  {
   "cell_type": "code",
   "execution_count": 64,
   "id": "81489b95-cf4c-4f86-ac30-6927b22e9093",
   "metadata": {},
   "outputs": [
    {
     "data": {
      "text/plain": [
       "{'first_name': 'John',\n",
       " 'last_name': 'Doe',\n",
       " 'display_name': 'John Doe',\n",
       " 'height': 168,\n",
       " 'weight': 70,\n",
       " 'bmi': 24.801587301587304}"
      ]
     },
     "execution_count": 64,
     "metadata": {},
     "output_type": "execute_result"
    }
   ],
   "source": [
    "# This type of change really shines in situations where you need to repeat the same pattern multiple times. \n",
    "# The continuous assignment of temporary results to the same variable can make code look unnecessarily bloated.\n",
    "first_name = \"John\"\n",
    "last_name = \"Doe\"\n",
    "height = 168\n",
    "weight = 70\n",
    "user = {\n",
    "    \"first_name\": first_name,\n",
    "    \"last_name\": last_name,\n",
    "    \"display_name\": f\"{first_name} {last_name}\",\n",
    "    \"height\":  height,\n",
    "    \"weight\": weight,\n",
    "    \"bmi\": weight / (height / 100) ** 2,\n",
    "}\n",
    "user"
   ]
  },
  {
   "cell_type": "code",
   "execution_count": 65,
   "id": "ca7de096-7ec6-4495-970c-dfd993529052",
   "metadata": {},
   "outputs": [
    {
     "data": {
      "text/plain": [
       "{'first_name': 'madhur', 'last_name': 'prashant', 'height': 178}"
      ]
     },
     "execution_count": 65,
     "metadata": {},
     "output_type": "execute_result"
    }
   ],
   "source": [
    "# Now changing this\n",
    "user: Dict = {\n",
    "    \"first_name\": (first_name := \"madhur\"),\n",
    "    \"last_name\": (last_name := \"prashant\"),\n",
    "    \"height\": (height := 178)\n",
    "}\n",
    "user"
   ]
  },
  {
   "cell_type": "markdown",
   "id": "9d8250c6-2489-4bd2-9165-1f6a490a7018",
   "metadata": {},
   "source": [
    "#### Type-hinting generics"
   ]
  },
  {
   "cell_type": "code",
   "execution_count": 66,
   "id": "6c4acc80-7b39-480b-8df9-31180c00aa50",
   "metadata": {},
   "outputs": [],
   "source": [
    "# dict[KeyType, ValueType]\n",
    "from typing import Any\n",
    "def get_ci(d: Dict, key: str) -> Any:\n",
    "    for k, v in d.items():\n",
    "        if key.lower == k.lower():\n",
    "            return v"
   ]
  },
  {
   "cell_type": "code",
   "execution_count": 67,
   "id": "9d83cd42-9188-4961-976b-ae763b2a2489",
   "metadata": {},
   "outputs": [],
   "source": [
    "# the signature of this function with more restrictive type annotations would be as follows:\n",
    "def get_ci(d: Dict[str, Any], key: str) -> Any:\n",
    "    for k, v in d.items():\n",
    "        if key.lower == k.lower():\n",
    "            return v"
   ]
  },
  {
   "cell_type": "markdown",
   "id": "2bad87f0-e235-41ad-b78b-030f7093aab6",
   "metadata": {},
   "source": [
    "#### Positional-only parameters"
   ]
  },
  {
   "cell_type": "code",
   "execution_count": 68,
   "id": "54bed303-bdc7-4b57-a75e-e2e36ed9cf0d",
   "metadata": {},
   "outputs": [],
   "source": [
    "\"\"\"\n",
    "Python is quite flexible when it comes to passing arguments to functions. There are two ways in which function arguments can be provided to functions:\n",
    "\n",
    "As a positional argument\n",
    "As a keyword argument\n",
    "\"\"\"\n",
    "def concatenate(first: str, second: str, delim: str):\n",
    "    return delim.join([first, second])"
   ]
  },
  {
   "cell_type": "code",
   "execution_count": 69,
   "id": "8214814b-b0cf-46c5-8191-9a8f9ed1287e",
   "metadata": {},
   "outputs": [
    {
     "data": {
      "text/plain": [
       "'John    Doe'"
      ]
     },
     "execution_count": 69,
     "metadata": {},
     "output_type": "execute_result"
    }
   ],
   "source": [
    "concatenate(\"John\", \"Doe\", \"    \")"
   ]
  },
  {
   "cell_type": "code",
   "execution_count": 73,
   "id": "798d3e27-c34b-48ad-af3f-1b44fce2d7be",
   "metadata": {},
   "outputs": [],
   "source": [
    "# to remove backward compatability, you can make some arguments positional and some keyword based arguments as follows\n",
    "def concatenate(first: str, second: str, /, *, delim: str):\n",
    "    return delim.join([first, second])"
   ]
  },
  {
   "cell_type": "code",
   "execution_count": 74,
   "id": "6738b254-c3ef-413b-a2c5-2579a02787f1",
   "metadata": {},
   "outputs": [
    {
     "ename": "TypeError",
     "evalue": "concatenate() takes 2 positional arguments but 3 were given",
     "output_type": "error",
     "traceback": [
      "\u001b[0;31m---------------------------------------------------------------------------\u001b[0m",
      "\u001b[0;31mTypeError\u001b[0m                                 Traceback (most recent call last)",
      "Cell \u001b[0;32mIn[74], line 1\u001b[0m\n\u001b[0;32m----> 1\u001b[0m \u001b[43mconcatenate\u001b[49m\u001b[43m(\u001b[49m\u001b[38;5;124;43m\"\u001b[39;49m\u001b[38;5;124;43mJohn\u001b[39;49m\u001b[38;5;124;43m\"\u001b[39;49m\u001b[43m,\u001b[49m\u001b[43m \u001b[49m\u001b[38;5;124;43m\"\u001b[39;49m\u001b[38;5;124;43mDoe\u001b[39;49m\u001b[38;5;124;43m\"\u001b[39;49m\u001b[43m,\u001b[49m\u001b[43m \u001b[49m\u001b[38;5;124;43m\"\u001b[39;49m\u001b[38;5;124;43m    \u001b[39;49m\u001b[38;5;124;43m\"\u001b[39;49m\u001b[43m)\u001b[49m\n",
      "\u001b[0;31mTypeError\u001b[0m: concatenate() takes 2 positional arguments but 3 were given"
     ]
    }
   ],
   "source": [
    "concatenate(\"John\", \"Doe\", \"    \")"
   ]
  },
  {
   "cell_type": "code",
   "execution_count": 75,
   "id": "9aa7c6b3-5a7f-4ab4-90b3-75326dd98d21",
   "metadata": {},
   "outputs": [
    {
     "data": {
      "text/plain": [
       "'John    Doe'"
      ]
     },
     "execution_count": 75,
     "metadata": {},
     "output_type": "execute_result"
    }
   ],
   "source": [
    "concatenate(\"John\", \"Doe\", delim=\"    \")"
   ]
  },
  {
   "cell_type": "code",
   "execution_count": 79,
   "id": "6a58a793-ce0c-4d1a-bdaa-5addf206feac",
   "metadata": {},
   "outputs": [],
   "source": [
    "# if we want unlimited number of positional arguments\n",
    "def concatenate(*items, delim: str):\n",
    "    return delim.join(items)"
   ]
  },
  {
   "cell_type": "code",
   "execution_count": 80,
   "id": "1d725fae-7ac8-4c26-8824-398956978b4c",
   "metadata": {},
   "outputs": [
    {
     "data": {
      "text/plain": [
       "'John    Doe    is    a    man'"
      ]
     },
     "execution_count": 80,
     "metadata": {},
     "output_type": "execute_result"
    }
   ],
   "source": [
    "concatenate(\"John\", \"Doe\", \"is\", \"a\", \"man\", delim=\"    \")"
   ]
  },
  {
   "cell_type": "markdown",
   "id": "c34f2e2b-5405-4c29-ba06-1085906bd12a",
   "metadata": {},
   "source": [
    "### zoneinfo module\n",
    "---"
   ]
  },
  {
   "cell_type": "code",
   "execution_count": 86,
   "id": "16d88dfe-35ec-4161-b4d3-0eee4b561d36",
   "metadata": {},
   "outputs": [
    {
     "data": {
      "text/plain": [
       "datetime.datetime(2020, 11, 28, 0, 0, tzinfo=zoneinfo.ZoneInfo(key='Europe/Warsaw'))"
      ]
     },
     "execution_count": 86,
     "metadata": {},
     "output_type": "execute_result"
    }
   ],
   "source": [
    "# ZoneInfo(timezone_key)\n",
    "from datetime import datetime\n",
    "from zoneinfo import ZoneInfo\n",
    "\n",
    "dt = datetime(2020, 11, 28, tzinfo=ZoneInfo(\"Europe/Warsaw\"))\n",
    "dt"
   ]
  },
  {
   "cell_type": "markdown",
   "id": "d9264525-5f4c-4d18-8b35-ec481a6a5994",
   "metadata": {},
   "source": [
    "#### graphlib module"
   ]
  },
  {
   "cell_type": "code",
   "execution_count": 94,
   "id": "98268f7f-d888-4e0f-863f-7e9e1f6cf9cc",
   "metadata": {},
   "outputs": [
    {
     "data": {
      "text/plain": [
       "{'customers': set(),\n",
       " 'accounts': {'customers'},\n",
       " 'products': set(),\n",
       " 'orders': {'accounts', 'customers'},\n",
       " 'order_products': {'orders', 'products'}}"
      ]
     },
     "execution_count": 94,
     "metadata": {},
     "output_type": "execute_result"
    }
   ],
   "source": [
    "from graphlib import TopologicalSorter\n",
    "table_references: Dict = {\n",
    "    \"customers\": set(), \n",
    "    \"accounts\": {\"customers\"},\n",
    "    \"products\": set(),\n",
    "    \"orders\": {\"accounts\", \"customers\"},\n",
    "    \"order_products\": {\"orders\", \"products\"},\n",
    "}\n",
    "table_references"
   ]
  },
  {
   "cell_type": "code",
   "execution_count": 97,
   "id": "28e8624a-f5c6-4e12-ad5a-5efdaaddac82",
   "metadata": {},
   "outputs": [
    {
     "data": {
      "text/plain": [
       "['customers', 'products', 'accounts', 'orders', 'order_products']"
      ]
     },
     "execution_count": 97,
     "metadata": {},
     "output_type": "execute_result"
    }
   ],
   "source": [
    "sorter = TopologicalSorter(table_references)\n",
    "list(sorter.static_order())"
   ]
  },
  {
   "cell_type": "markdown",
   "id": "01c53d39-efeb-4126-b15f-f2991dedf8f5",
   "metadata": {},
   "source": [
    "#### Underscores in numeric literals"
   ]
  },
  {
   "cell_type": "code",
   "execution_count": 101,
   "id": "dea8a7ac-46a0-4e06-8620-3acfbf8257f2",
   "metadata": {},
   "outputs": [
    {
     "data": {
      "text/plain": [
       "1000000000"
      ]
     },
     "execution_count": 101,
     "metadata": {},
     "output_type": "execute_result"
    }
   ],
   "source": [
    "account_balance: int = 100_00_00000\n",
    "account_balance"
   ]
  },
  {
   "cell_type": "code",
   "execution_count": null,
   "id": "c6161285-fb1a-447f-b137-77c6394aaaf8",
   "metadata": {},
   "outputs": [],
   "source": []
  }
 ],
 "metadata": {
  "kernelspec": {
   "display_name": "Python 3 (ipykernel)",
   "language": "python",
   "name": "python3"
  },
  "language_info": {
   "codemirror_mode": {
    "name": "ipython",
    "version": 3
   },
   "file_extension": ".py",
   "mimetype": "text/x-python",
   "name": "python",
   "nbconvert_exporter": "python",
   "pygments_lexer": "ipython3",
   "version": "3.10.14"
  }
 },
 "nbformat": 4,
 "nbformat_minor": 5
}
